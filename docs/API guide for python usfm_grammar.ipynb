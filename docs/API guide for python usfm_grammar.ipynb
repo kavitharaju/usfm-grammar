{
 "cells": [
  {
   "cell_type": "markdown",
   "id": "a7b8c9b4",
   "metadata": {},
   "source": [
    "## How to use the usfm-grammar python APIs\n"
   ]
  },
  {
   "cell_type": "markdown",
   "id": "eb38154b",
   "metadata": {
    "heading_collapsed": true
   },
   "source": [
    "### Installation"
   ]
  },
  {
   "cell_type": "markdown",
   "id": "d55330bb",
   "metadata": {
    "heading_collapsed": true,
    "hidden": true
   },
   "source": [
    "#### From PyPI"
   ]
  },
  {
   "cell_type": "code",
   "execution_count": null,
   "id": "23545d40",
   "metadata": {
    "hidden": true
   },
   "outputs": [],
   "source": [
    "# Good to set up a virtual environment\n",
    "# requires python >= 3.10\n",
    "!pip install usfm-grammar"
   ]
  },
  {
   "cell_type": "markdown",
   "id": "228ebb44",
   "metadata": {
    "heading_collapsed": true,
    "hidden": true
   },
   "source": [
    "#### From code base"
   ]
  },
  {
   "cell_type": "code",
   "execution_count": null,
   "id": "54841666",
   "metadata": {
    "hidden": true
   },
   "outputs": [],
   "source": [
    "! pip install -e ./../python-usfm-parser/ # from the code base"
   ]
  },
  {
   "cell_type": "code",
   "execution_count": null,
   "id": "ba23e32e",
   "metadata": {
    "hidden": true
   },
   "outputs": [],
   "source": []
  },
  {
   "cell_type": "code",
   "execution_count": null,
   "id": "8367ed3b",
   "metadata": {
    "hidden": true
   },
   "outputs": [],
   "source": [
    "! usfm-grammar -h # to view the command line options"
   ]
  },
  {
   "cell_type": "code",
   "execution_count": null,
   "id": "b3d034a2",
   "metadata": {
    "hidden": true
   },
   "outputs": [],
   "source": [
    "# to bring the changes, after update on the local tree-sitter-usfm grammar\n",
    "# in terminal from the project root run the following\n",
    "# >>> python python-usfm-parser/src/grammar_rebuild.py ./tree-sitter-usfm3/ python-usfm-parser/src/usfm_grammar/my-languages.so"
   ]
  },
  {
   "cell_type": "markdown",
   "id": "78c03466",
   "metadata": {},
   "source": [
    "### Parsing an input USFM"
   ]
  },
  {
   "cell_type": "code",
   "execution_count": null,
   "id": "5d06e40a",
   "metadata": {},
   "outputs": [],
   "source": [
    "from usfm_grammar import USFMParser, Filter # importing from the local module, not from an installed library"
   ]
  },
  {
   "cell_type": "code",
   "execution_count": null,
   "id": "932320b5",
   "metadata": {},
   "outputs": [],
   "source": [
    "input_usfm_str = '''\n",
    "\\\\id EXO 02EXOGNT92.SFM, Good News Translation, June 2003\n",
    "\\\\h പുറപ്പാടു്\n",
    "\\\\toc1 പുറപ്പാടു്\n",
    "\\\\toc2 പുറപ്പാടു്\n",
    "\\\\mt പുറപ്പാടു്\n",
    "\\\\c 1\n",
    "\\\\p\n",
    "\\\\v 1 യാക്കോബിനോടുകൂടെ കുടുംബസഹിതം ഈജിപ്റ്റിൽ വന്ന \n",
    "\\\\p യിസ്രായേൽമക്കളുടെ പേരുകൾ : \n",
    "\\\\v 2 രൂബേൻ, ശിമെയോൻ, ലേവി,\n",
    "\\\\v 3 \n",
    "\\\\li1 യെഹൂദാ, \n",
    "\\\\li1 യിസ്സാഖാർ, \n",
    "\\\\li1 സെബൂലൂൻ, \n",
    "\\\\li1 ബെന്യാമീൻ\n",
    "\\\\p\n",
    "\\\\v 4 ദാൻ, നഫ്താലി, ഗാദ്, ആശേർ.\n",
    "\\\\v 12-83 They presented their offerings in the following order:\n",
    "\\\\tr \\\\th1 Day \\\\th2 Tribe \\\\th3 Leader\n",
    "\\\\tr \\\\tcr1 1st \\\\tc2 Judah \\\\tc3 Nahshon son of Amminadab\n",
    "\\\\tr \\\\tcr1 2nd \\\\tc2 Issachar \\\\tc3 Nethanel son of Zuar\n",
    "\\\\tr \\\\tcr1 3rd \\\\tc2 Zebulun \\\\tc3 Eliab son of Helon\n",
    "\\\\p\n",
    "\\\\v 5 യാക്കോബിന്റെ സന്താനപരമ്പരകൾ എല്ലാം കൂടി എഴുപതു പേർ ആയിരുന്നു; യോസേഫ് മുമ്പെ തന്നെ ഈജിപ്റ്റിൽ ആയിരുന്നു. \\w gracious|grace\\w* and then a few words later \\w gracious|lemma=\"grace\" x-myattr=\"metadata\"\\w*\n",
    "\\\\c 2\n",
    "\\\\s1 A Prayer of Habakkuk\n",
    "\\\\p\n",
    "\\\\v 1 This is a prayer of the prophet Habakkuk:\n",
    "\\\\b\n",
    "\\\\q1\n",
    "\\\\v 2 O \\\\nd Lord\\\\nd*, I have heard of what you have done,\n",
    "\\\\q2 and I am filled with awe.\n",
    "\\\\q1 Now do again in our times\n",
    "\\\\q2 the great deeds you used to do.\n",
    "\\\\q1 Be merciful, even when you are angry.\n",
    "\\\\p\n",
    "\\\\v 20 Adam \\\\f + \\\\fr 3.20: \\\\fk Adam: \\\\ft This name in Hebrew means “all human beings.”\\\\f*\n",
    "named his wife Eve, \\\\f + \\\\fr 3.20: \\\\fk Eve: \\\\ft This name sounds similar to the Hebrew\n",
    "word for “living,” which is rendered in this context as “human beings.”\\\\f* because she\n",
    "was the mother of all human beings.\n",
    "\\\\v 21 And the \\\\nd Lord\\\\nd* God made clothes out of animal skins for Adam and his wife,\n",
    "and he clothed them.\n",
    "\\\\qt-s |sid=\"qt_123\" who=\"Pilate\"\\\\*“Are you the king of the Jews?”\\\\qt-e |eid=\"qt_123\"\\\\*\n",
    "'''"
   ]
  },
  {
   "cell_type": "code",
   "execution_count": null,
   "id": "8852d415",
   "metadata": {},
   "outputs": [],
   "source": [
    "print(input_usfm_str)"
   ]
  },
  {
   "cell_type": "code",
   "execution_count": null,
   "id": "ad92e648",
   "metadata": {},
   "outputs": [],
   "source": [
    "my_parser = USFMParser(input_usfm_str)"
   ]
  },
  {
   "cell_type": "code",
   "execution_count": null,
   "id": "758fc216",
   "metadata": {},
   "outputs": [],
   "source": [
    "# To validate the input USFM file. \n",
    "# The rest of operations will work even if there are small errors, if \"ignore_errors\" is set\n",
    "my_parser.errors "
   ]
  },
  {
   "cell_type": "markdown",
   "id": "0fe150b2",
   "metadata": {
    "heading_collapsed": true
   },
   "source": [
    "### USFM-Grammar JSON\n",
    "Working with the dict/json object"
   ]
  },
  {
   "cell_type": "code",
   "execution_count": null,
   "id": "5c7c8f93",
   "metadata": {
    "hidden": true
   },
   "outputs": [],
   "source": [
    "usfm_json = my_parser.to_dict()"
   ]
  },
  {
   "cell_type": "code",
   "execution_count": null,
   "id": "d3312035",
   "metadata": {
    "hidden": true
   },
   "outputs": [],
   "source": [
    "usfm_json"
   ]
  },
  {
   "cell_type": "code",
   "execution_count": null,
   "id": "7693576c",
   "metadata": {
    "code_folding": [
     1
    ],
    "hidden": true
   },
   "outputs": [],
   "source": [
    "# A generic function to traverse the structure\n",
    "def scan_json(json_obj, filters = [\"book\", \"chapter\", \"verse\"]):\n",
    "    if isinstance(json_obj, list):\n",
    "        for obj in json_obj:\n",
    "            scan_json(obj, filters)\n",
    "    else:\n",
    "        if json_obj['cat'] in filters:\n",
    "            if \"ref\" in json_obj:\n",
    "                print(json_obj['ref'], end=\"-->\")\n",
    "            if \"value\" in json_obj:\n",
    "                print(json_obj['value'], end=\"-->\")\n",
    "            print(f\"({json_obj['cat']})\")\n",
    "        if \"children\" in json_obj:\n",
    "            for child in json_obj['children']:\n",
    "                scan_json(child, filters)\n",
    "    return\n"
   ]
  },
  {
   "cell_type": "code",
   "execution_count": null,
   "id": "b26165f6",
   "metadata": {
    "hidden": true
   },
   "outputs": [],
   "source": [
    "# Get cleaned verse texts\n",
    "scan_json(usfm_json, filters=[\"verseText\"])"
   ]
  },
  {
   "cell_type": "code",
   "execution_count": null,
   "id": "23c0d58b",
   "metadata": {
    "hidden": true
   },
   "outputs": [],
   "source": [
    "# Get footnotes only\n",
    "scan_json(usfm_json, filters=[\"footnote\", \"noteText\"])"
   ]
  },
  {
   "cell_type": "code",
   "execution_count": null,
   "id": "8500cb7c",
   "metadata": {
    "hidden": true
   },
   "outputs": [],
   "source": [
    "# Get table and lists usages in the USFM\n",
    "scan_json(usfm_json, filters=[\"table\", \"list\", \"verse\", \"chapter\", \"book\"])"
   ]
  },
  {
   "cell_type": "code",
   "execution_count": null,
   "id": "cc4bc03b",
   "metadata": {
    "hidden": true
   },
   "outputs": [],
   "source": [
    "# Get versification\n",
    "scan_json(usfm_json, filters=[\"book\", \"chapter\", \"verse\"])"
   ]
  },
  {
   "cell_type": "code",
   "execution_count": null,
   "id": "0a22d75f",
   "metadata": {
    "hidden": true
   },
   "outputs": [],
   "source": []
  },
  {
   "cell_type": "code",
   "execution_count": null,
   "id": "43e87b9b",
   "metadata": {
    "code_folding": [
     0
    ],
    "hidden": true
   },
   "outputs": [],
   "source": [
    "def find_attribute(json_obj, filters=[]):\n",
    "    if isinstance(json_obj, list):\n",
    "        for obj in json_obj:\n",
    "            find_attribute(obj, filters)\n",
    "        return\n",
    "    if \"attributes\" in json_obj:\n",
    "        found = []\n",
    "        for filt in filters:\n",
    "            if filt in json_obj['attributes']:\n",
    "                found.append(f\"{filt}={json_obj['attributes'][filt]}\")\n",
    "        if found:\n",
    "            print(f\"{json_obj['value']} -->{','.join(found)}\")\n",
    "    if \"children\" in json_obj:\n",
    "        for child in json_obj['children']:\n",
    "            find_attribute(child, filters)\n",
    "    return\n"
   ]
  },
  {
   "cell_type": "code",
   "execution_count": null,
   "id": "0e2fd821",
   "metadata": {
    "hidden": true
   },
   "outputs": [],
   "source": [
    "# search for strongs and lemma\n",
    "find_attribute(usfm_json, filters=[\"strongs\", \"lemma\"])"
   ]
  },
  {
   "cell_type": "code",
   "execution_count": null,
   "id": "95176732",
   "metadata": {
    "hidden": true
   },
   "outputs": [],
   "source": [
    "!head ~/Downloads/eBible_engBBE_2020-04-17_RUT_usfm.txt\n"
   ]
  },
  {
   "cell_type": "code",
   "execution_count": null,
   "id": "65018a75",
   "metadata": {
    "hidden": true
   },
   "outputs": [],
   "source": [
    "complex_usfm = open(\"/home/kavitha/Downloads/eBible_engBBE_2020-04-17_RUT_usfm.txt\", 'r', encoding='utf-8').read()"
   ]
  },
  {
   "cell_type": "code",
   "execution_count": null,
   "id": "cd958551",
   "metadata": {
    "hidden": true
   },
   "outputs": [],
   "source": [
    "second_parser = USFMParser(complex_usfm)\n",
    "complex_json = second_parser.to_dict()"
   ]
  },
  {
   "cell_type": "code",
   "execution_count": null,
   "id": "e221e7c6",
   "metadata": {
    "hidden": true
   },
   "outputs": [],
   "source": [
    "find_attribute(complex_json, filters=['strong', 'lemma'])"
   ]
  },
  {
   "cell_type": "code",
   "execution_count": null,
   "id": "aad455d4",
   "metadata": {
    "hidden": true
   },
   "outputs": [],
   "source": [
    "scan_json(complex_json, filters=['verseText'])"
   ]
  },
  {
   "cell_type": "code",
   "execution_count": null,
   "id": "97dc341a",
   "metadata": {
    "code_folding": [
     1
    ],
    "hidden": true
   },
   "outputs": [],
   "source": [
    "# Re-construct a simple USFM\n",
    "def make_usfm(json_obj, filters=['book', 'chapter', 'verse', 'verseText']):\n",
    "    if isinstance(json_obj, list):\n",
    "        for obj in json_obj:\n",
    "            make_usfm(obj, filters)\n",
    "        return\n",
    "    if json_obj['cat'] in filters:\n",
    "        if \"tag\" in json_obj:\n",
    "            print(\"\\\\\"+json_obj['tag'], end=\" \")\n",
    "        if \"value\" in json_obj:\n",
    "            print(json_obj[\"value\"], end=\"\\n\")\n",
    "    if \"children\" in json_obj:\n",
    "        for child in json_obj['children']:\n",
    "            make_usfm(child)\n",
    "    return"
   ]
  },
  {
   "cell_type": "code",
   "execution_count": null,
   "id": "18dcc361",
   "metadata": {
    "hidden": true
   },
   "outputs": [],
   "source": [
    "make_usfm(usfm_json)"
   ]
  },
  {
   "cell_type": "code",
   "execution_count": null,
   "id": "b23e5a58",
   "metadata": {
    "hidden": true
   },
   "outputs": [],
   "source": [
    "make_usfm(complex_json)"
   ]
  },
  {
   "cell_type": "markdown",
   "id": "c2b619c6",
   "metadata": {
    "heading_collapsed": true
   },
   "source": [
    "### Filtering for specific contents"
   ]
  },
  {
   "cell_type": "code",
   "execution_count": null,
   "id": "9aa16315",
   "metadata": {
    "hidden": true
   },
   "outputs": [],
   "source": [
    "my_parser.to_dict()"
   ]
  },
  {
   "cell_type": "code",
   "execution_count": null,
   "id": "c5b4d79f",
   "metadata": {
    "hidden": true
   },
   "outputs": [],
   "source": [
    "my_parser.to_dict([Filter.SCRIPTURE_TEXT])"
   ]
  },
  {
   "cell_type": "code",
   "execution_count": null,
   "id": "ba0b92d5",
   "metadata": {
    "hidden": true
   },
   "outputs": [],
   "source": [
    "my_parser.to_dict([Filter.NOTES])"
   ]
  },
  {
   "cell_type": "code",
   "execution_count": null,
   "id": "e4f49981",
   "metadata": {
    "hidden": true
   },
   "outputs": [],
   "source": [
    "my_parser.to_dict([Filter.SCRIPTURE_TEXT, Filter.PARAGRAPHS, Filter.TITLES])"
   ]
  },
  {
   "cell_type": "markdown",
   "id": "835794b3",
   "metadata": {
    "heading_collapsed": true
   },
   "source": [
    "### Converting to other formats - list, table, USX"
   ]
  },
  {
   "cell_type": "code",
   "execution_count": null,
   "id": "03ed2834",
   "metadata": {
    "code_folding": [
     1,
     16
    ],
    "hidden": true
   },
   "outputs": [],
   "source": []
  },
  {
   "cell_type": "code",
   "execution_count": null,
   "id": "cf59a547",
   "metadata": {
    "hidden": true
   },
   "outputs": [],
   "source": [
    "list_output = my_parser.to_list()"
   ]
  },
  {
   "cell_type": "code",
   "execution_count": null,
   "id": "f56bc71d",
   "metadata": {
    "hidden": true
   },
   "outputs": [],
   "source": [
    "print(\"\\n\".join([\"\\t\".join(row) for row in list_output]))"
   ]
  },
  {
   "cell_type": "code",
   "execution_count": null,
   "id": "6db3993e",
   "metadata": {
    "hidden": true
   },
   "outputs": [],
   "source": []
  },
  {
   "cell_type": "code",
   "execution_count": null,
   "id": "e6fa8566",
   "metadata": {
    "hidden": true
   },
   "outputs": [],
   "source": [
    "table_output = my_parser.to_list([Filter.MILESTONES, Filter.NOTES])\n",
    "print(\"\\n\".join([\"\\t\".join(row) for row in table_output]))\n"
   ]
  },
  {
   "cell_type": "code",
   "execution_count": null,
   "id": "d7b6c4d0",
   "metadata": {
    "hidden": true
   },
   "outputs": [],
   "source": []
  },
  {
   "cell_type": "code",
   "execution_count": null,
   "id": "43049bb6",
   "metadata": {
    "hidden": true
   },
   "outputs": [],
   "source": [
    "table_output = my_parser.to_list([Filter.SCRIPTURE_TEXT])\n",
    "print(\"\\n\".join([\"\\t\".join(row) for row in table_output]))\n"
   ]
  },
  {
   "cell_type": "code",
   "execution_count": null,
   "id": "3f14c2b0",
   "metadata": {
    "hidden": true
   },
   "outputs": [],
   "source": []
  },
  {
   "cell_type": "code",
   "execution_count": null,
   "id": "fe450f35",
   "metadata": {
    "hidden": true
   },
   "outputs": [],
   "source": []
  },
  {
   "cell_type": "code",
   "execution_count": null,
   "id": "38a6d3fb",
   "metadata": {
    "hidden": true
   },
   "outputs": [],
   "source": [
    "from lxml import etree\n",
    "usx_elem = my_parser.to_usx()\n",
    "usx_str = etree.tostring(usx_elem, encoding=\"unicode\", pretty_print=True) \n",
    "print(usx_str)"
   ]
  },
  {
   "cell_type": "code",
   "execution_count": null,
   "id": "6359c463",
   "metadata": {
    "hidden": true
   },
   "outputs": [],
   "source": []
  },
  {
   "cell_type": "markdown",
   "id": "2a9162ca",
   "metadata": {
    "heading_collapsed": true
   },
   "source": [
    "### Work with the syntax tree itself"
   ]
  },
  {
   "cell_type": "code",
   "execution_count": null,
   "id": "818e36d9",
   "metadata": {
    "hidden": true
   },
   "outputs": [],
   "source": [
    "my_st = my_parser.syntax_tree\n",
    "print(my_st.children)"
   ]
  },
  {
   "cell_type": "code",
   "execution_count": null,
   "id": "295dae47",
   "metadata": {
    "hidden": true
   },
   "outputs": [],
   "source": []
  },
  {
   "cell_type": "code",
   "execution_count": null,
   "id": "acc803bc",
   "metadata": {
    "hidden": true
   },
   "outputs": [],
   "source": []
  },
  {
   "cell_type": "code",
   "execution_count": null,
   "id": "5a8cef41",
   "metadata": {
    "hidden": true
   },
   "outputs": [],
   "source": [
    "# to just view the syntax-tree\n",
    "print(my_parser.to_syntax_tree())"
   ]
  },
  {
   "cell_type": "code",
   "execution_count": null,
   "id": "2bd40ba2",
   "metadata": {
    "hidden": true
   },
   "outputs": [],
   "source": []
  },
  {
   "cell_type": "code",
   "execution_count": null,
   "id": "a680a0b6",
   "metadata": {
    "hidden": true
   },
   "outputs": [],
   "source": []
  },
  {
   "cell_type": "code",
   "execution_count": null,
   "id": "0fac8a56",
   "metadata": {
    "hidden": true
   },
   "outputs": [],
   "source": []
  },
  {
   "cell_type": "code",
   "execution_count": null,
   "id": "d4e0c784",
   "metadata": {
    "hidden": true
   },
   "outputs": [],
   "source": []
  },
  {
   "cell_type": "code",
   "execution_count": null,
   "id": "1ea6bb28",
   "metadata": {
    "hidden": true
   },
   "outputs": [],
   "source": []
  },
  {
   "cell_type": "code",
   "execution_count": null,
   "id": "dc42b6af",
   "metadata": {
    "hidden": true
   },
   "outputs": [],
   "source": []
  }
 ],
 "metadata": {
  "kernelspec": {
   "display_name": "ENV-for-usfmgrammar",
   "language": "python",
   "name": "env-for-usfmgrammar"
  },
  "language_info": {
   "codemirror_mode": {
    "name": "ipython",
    "version": 3
   },
   "file_extension": ".py",
   "mimetype": "text/x-python",
   "name": "python",
   "nbconvert_exporter": "python",
   "pygments_lexer": "ipython3",
   "version": "3.10.6"
  }
 },
 "nbformat": 4,
 "nbformat_minor": 5
}
